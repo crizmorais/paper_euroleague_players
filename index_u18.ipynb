{
 "cells": [
  {
   "cell_type": "code",
   "execution_count": 34,
   "id": "tired-median",
   "metadata": {},
   "outputs": [],
   "source": [
    "from requests import get\n",
    "from bs4 import BeautifulSoup as bs\n",
    "import pandas as pd\n",
    "import csv\n",
    "from time import sleep\n",
    "\n",
    "def get_last_page(url: str) -> str:\n",
    "    pages = get(url)\n",
    "    pages_lida = bs(pages.text, 'html.parser')\n",
    "    links = pages_lida.find('span', {'class': 'wp-pager-pages'}).find_all('a')\n",
    "    return max([link.get_text() for link in links])\n",
    "\n",
    "def get_rank(url):\n",
    "    #pagina = get(url)\n",
    "    #ler_pg = bs(pagina.text, 'html.parser')\n",
    "    rank_tag = ler_pg.find_all('td', {'class':'IndividualStatsRank'})\n",
    "    ranks = [rank.get_text() for rank in rank_tag]\n",
    "    return ranks\n",
    "\n",
    "def get_player(url):\n",
    "    #pagina = get(url)\n",
    "    #ler_pg = bs(pagina.text, 'html.parser')\n",
    "    player_tag = ler_pg.find_all('a', {'class':'StatsCenterPlayerName'})\n",
    "    players = [nome.find('span', {'class':'hidden-xs'}).get_text() for nome in player_tag]\n",
    "    return players\n",
    "\n",
    "def get_team(url):\n",
    "    #pagina = get(url)\n",
    "    #ler_pg = bs(pagina.text, 'html.parser')\n",
    "    team_tag = ler_pg.find_all('td', {'class':'StatsCenterTeams'})\n",
    "    team = []\n",
    "    for n in team_tag:\n",
    "        if n.find('span', {'class':'visible-sm-inline'}) != None:\n",
    "            team.append(n.find('span', {'class':'visible-md-inline'}).get_text())\n",
    "        else:\n",
    "            team.append('N/A')\n",
    "    #team = [n.find('span', {'class':'visible-sm-inline'}).get_text() for n in team_tag]\n",
    "    return team\n",
    "\n",
    "def get_games(url):\n",
    "    #pagina = get(url)\n",
    "    #ler_pg = bs(pagina.text, 'html.parser')\n",
    "    tabela = ler_pg.find('table', {'class':'StatsGridResults table responsive fixed-cols-2 table-left-cols-2 table-expand table-striped table-hover table-noborder table-centered table-condensed'})\n",
    "    games_tag = tabela.find_all('td', {'align':'right'})\n",
    "    games = [n.get_text()[0:] for n in games_tag[0::4]]\n",
    "    return games\n",
    "\n",
    "def get_index(url):\n",
    "    #pagina = get(url)\n",
    "    #ler_pg = bs(pagina.text, 'html.parser')\n",
    "    tabela = ler_pg.find('table', {'class':'StatsGridResults table responsive fixed-cols-2 table-left-cols-2 table-expand table-striped table-hover table-noborder table-centered table-condensed'})\n",
    "    games_tag = tabela.find_all('td', {'align':'right'})\n",
    "    index_r = [n.get_text()[0:] for n in games_tag[1::4]]\n",
    "    return index_r\n",
    "\n",
    "def get_aver(url):\n",
    "    #pagina = get(url)\n",
    "    #ler_pg = bs(pagina.text, 'html.parser')\n",
    "    tabela = ler_pg.find('table', {'class':'StatsGridResults table responsive fixed-cols-2 table-left-cols-2 table-expand table-striped table-hover table-noborder table-centered table-condensed'})\n",
    "    games_tag = tabela.find_all('td', {'align':'right'})\n",
    "    aver = [n.get_text()[0:] for n in games_tag[2::4]]\n",
    "    return aver\n",
    "\n",
    "def get_per(url):\n",
    "    #pagina = get(url)\n",
    "    #ler_pg = bs(pagina.text, 'html.parser')\n",
    "    tabela = ler_pg.find('table', {'class':'StatsGridResults table responsive fixed-cols-2 table-left-cols-2 table-expand table-striped table-hover table-noborder table-centered table-condensed'})\n",
    "    games_tag = tabela.find_all('td', {'align':'right'})\n",
    "    per_40 = [n.get_text()[0:] for n in games_tag[3::4]]\n",
    "    return per_40\n",
    "\n",
    "def get_season(url):\n",
    "    season = ler_pg.find('select', {'name':'ctl00$ctl00$ctl00$ctl00$maincontainer$maincontent$contentpane$ctl01$ddlSeasonSingle'}).find('option', {'selected':'selected'}).get_text()\n",
    "    return season"
   ]
  },
  {
   "cell_type": "code",
   "execution_count": 35,
   "id": "exempt-inflation",
   "metadata": {},
   "outputs": [],
   "source": [
    "base_url = 'https://www.adidasngt.com/'\n",
    "stats = f'{base_url}u18/game-center/statistics'\n",
    "\n",
    "stats_get = get(stats)\n",
    "stats_page = bs(stats_get.text, 'html.parser')"
   ]
  },
  {
   "cell_type": "code",
   "execution_count": 36,
   "id": "obvious-manitoba",
   "metadata": {},
   "outputs": [],
   "source": [
    "seasons = stats_page.find('select', {'name':'ctl00$ctl00$ctl00$ctl00$maincontainer$maincontent$contentpane$ctl01$ddlSeasonSingle'}).find_all('option')\n",
    "\n",
    "season_dict = {season.get_text() : season.get('value')[11:] for season in seasons}\n",
    "\n",
    "link_seasons = [f'{stats}?mode=Leaders&entity=Players&seasonmode=Single&seasoncode={season}&cat=Valuation&agg=Accumulated' for season in season_dict.values()]"
   ]
  },
  {
   "cell_type": "code",
   "execution_count": 62,
   "id": "rubber-tennessee",
   "metadata": {},
   "outputs": [
    {
     "data": {
      "text/plain": [
       "\"for url in link_seasons:\\n    season_pg = get(url)\\n    season_page = bs(season_pg.text, 'html.parser')\\n    if season_page.find('span', {'class': 'wp-pager-pages'}):\\n        last_page = int(get_last_page(url))\\n        last_url = ['{}&page={}'.format(url, n) for n in range(1, last_page+1)]\\n        for urls in last_url:\\n            pagina = get(urls)\\n            ler_pg = bs(pagina.text, 'html.parser')\\n            lista_rank += get_rank(urls)\\n            lista_player += get_player(urls)\\n            lista_team += get_team(urls)\\n            lista_games += get_games(urls)\\n            lista_index += get_index(urls)\\n            lista_aver += get_aver(urls)\\n            lista_per += get_per(urls)\\n            print(urls)\\n            lista_season += [get_season(urls)] * len(get_rank(urls))\\n            print(len(get_rank(urls)))\\n        print(len(lista_season))\\nprint('ACABOU!')\""
      ]
     },
     "execution_count": 62,
     "metadata": {},
     "output_type": "execute_result"
    }
   ],
   "source": [
    "lista_rank = []\n",
    "lista_player = []\n",
    "lista_team = []\n",
    "lista_games = []\n",
    "lista_index = []\n",
    "lista_aver = []\n",
    "lista_per = []\n",
    "lista_season = []\n",
    "\n",
    "for url in link_seasons:\n",
    "    season_pg = get(url)\n",
    "    season_page = bs(season_pg.text, 'html.parser')\n",
    "    if season_page.find('span', {'class': 'wp-pager-pages'}):\n",
    "        last_page = int(get_last_page(url))\n",
    "        last_url = ['{}&page={}'.format(url, n) for n in range(1, last_page+1)]\n",
    "        for urls in last_url:\n",
    "            pagina = get(urls)\n",
    "            ler_pg = bs(pagina.text, 'html.parser')\n",
    "            lista_rank += get_rank(urls)\n",
    "            lista_player += get_player(urls)\n",
    "            lista_team += get_team(urls)\n",
    "            lista_games += get_games(urls)\n",
    "            lista_index += get_index(urls)\n",
    "            lista_aver += get_aver(urls)\n",
    "            lista_per += get_per(urls)\n",
    "            print(urls)\n",
    "            lista_season += [get_season(urls)] * len(get_rank(urls))\n",
    "            print(len(get_rank(urls)))\n",
    "        print(len(lista_season))\n",
    "print('ACABOU!')"
   ]
  },
  {
   "cell_type": "code",
   "execution_count": 45,
   "id": "sacred-bride",
   "metadata": {},
   "outputs": [],
   "source": [
    "'''lista_rank = []\n",
    "lista_player = []\n",
    "lista_team = []\n",
    "lista_games = []\n",
    "lista_index = []\n",
    "lista_aver = []\n",
    "lista_per = []'''\n",
    "\n",
    "listao = zip(lista_season, lista_rank, lista_player, lista_team, lista_games, lista_index, lista_aver, lista_per)"
   ]
  },
  {
   "cell_type": "code",
   "execution_count": 60,
   "id": "decreased-landing",
   "metadata": {},
   "outputs": [],
   "source": [
    "stats_dict = {'season':lista_season, 'rank':lista_rank, 'player':lista_player, 'team':lista_team, 'games':lista_games, 'index':lista_index, 'average':lista_aver, 'per_40min':lista_per}\n",
    "\n",
    "df = pd.DataFrame(stats_dict)"
   ]
  },
  {
   "cell_type": "code",
   "execution_count": 61,
   "id": "european-medicaid",
   "metadata": {},
   "outputs": [],
   "source": [
    "df.to_csv('PlayersU18.csv')"
   ]
  }
 ],
 "metadata": {
  "kernelspec": {
   "display_name": "Python 3",
   "language": "python",
   "name": "python3"
  },
  "language_info": {
   "codemirror_mode": {
    "name": "ipython",
    "version": 3
   },
   "file_extension": ".py",
   "mimetype": "text/x-python",
   "name": "python",
   "nbconvert_exporter": "python",
   "pygments_lexer": "ipython3",
   "version": "3.9.1"
  }
 },
 "nbformat": 4,
 "nbformat_minor": 5
}
